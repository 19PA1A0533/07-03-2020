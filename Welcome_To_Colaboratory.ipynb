{
  "nbformat": 4,
  "nbformat_minor": 0,
  "metadata": {
    "colab": {
      "name": "Welcome To Colaboratory",
      "provenance": [],
      "collapsed_sections": [],
      "include_colab_link": true
    },
    "kernelspec": {
      "display_name": "Python 3",
      "name": "python3"
    }
  },
  "cells": [
    {
      "cell_type": "markdown",
      "metadata": {
        "id": "view-in-github",
        "colab_type": "text"
      },
      "source": [
        "<a href=\"https://colab.research.google.com/github/19PA1A0533/07-03-2020/blob/master/Welcome_To_Colaboratory.ipynb\" target=\"_parent\"><img src=\"https://colab.research.google.com/assets/colab-badge.svg\" alt=\"Open In Colab\"/></a>"
      ]
    },
    {
      "cell_type": "code",
      "metadata": {
        "id": "-8i-u77ktSnW",
        "colab_type": "code",
        "colab": {}
      },
      "source": [
        "import numpy as np #used for matrices\n",
        "import pandas as pd  #used for creating tables\n",
        "from sklearn.model_selection import train_test_split\n",
        "from sklearn.tree import DecisionTreeClassifier\n",
        "from sklearn.ensemble import RandomForestClassifier\n",
        "from sklearn.ensemble import AdaBoostClassifier\n",
        "from sklearn import metrics #used to find accuracy and errors"
      ],
      "execution_count": 0,
      "outputs": []
    },
    {
      "cell_type": "code",
      "metadata": {
        "id": "5jmx9DMytXMO",
        "colab_type": "code",
        "colab": {}
      },
      "source": [
        "data=pd.read_csv('diabettees.csv')\n",
        "data.head()"
      ],
      "execution_count": 0,
      "outputs": []
    },
    {
      "cell_type": "code",
      "metadata": {
        "id": "djrT0dZxwVw5",
        "colab_type": "code",
        "colab": {}
      },
      "source": [
        "x=data[['Pregnancies','Glucose','BloodPressure','SkinThickness','Insulin','BMI','DiabetesPedigreeFunction','Age']]\n"
      ],
      "execution_count": 0,
      "outputs": []
    },
    {
      "cell_type": "code",
      "metadata": {
        "id": "VexIqYvNv9QB",
        "colab_type": "code",
        "colab": {}
      },
      "source": [
        "y=data['Outcome']"
      ],
      "execution_count": 0,
      "outputs": []
    },
    {
      "cell_type": "code",
      "metadata": {
        "id": "zQINEK05ts4V",
        "colab_type": "code",
        "colab": {}
      },
      "source": [
        "x_test,x_train,y_test,y_train=train_test_split(x,y,test_size=0.3)"
      ],
      "execution_count": 0,
      "outputs": []
    },
    {
      "cell_type": "code",
      "metadata": {
        "id": "wgcwgHxUx7Me",
        "colab_type": "code",
        "colab": {}
      },
      "source": [
        "clsfr1=DecisionTreeClassifier()\n",
        "clsfr1.fit(x_train,y_train)"
      ],
      "execution_count": 0,
      "outputs": []
    },
    {
      "cell_type": "code",
      "metadata": {
        "id": "L9kMbNYOyUrD",
        "colab_type": "code",
        "colab": {}
      },
      "source": [
        "y_pred=clsfr1.predict(x_test)\n",
        "y_pred\n",
        "frame=pd.DataFrame(y_test,y_pred)\n",
        "frame"
      ],
      "execution_count": 0,
      "outputs": []
    },
    {
      "cell_type": "code",
      "metadata": {
        "id": "KqW1dY1qzJPk",
        "colab_type": "code",
        "colab": {}
      },
      "source": [
        "print('Accuracy:',metrics.accuracy_score(y_test,y_pred))"
      ],
      "execution_count": 0,
      "outputs": []
    },
    {
      "cell_type": "code",
      "metadata": {
        "id": "10DIZq9Yz17P",
        "colab_type": "code",
        "colab": {}
      },
      "source": [
        "clfr2=RandomForestClassifier(n_estimators=50)\n",
        "clfr2.fit(x_test,y_test)"
      ],
      "execution_count": 0,
      "outputs": []
    },
    {
      "cell_type": "code",
      "metadata": {
        "id": "sjxTdkZs0VVf",
        "colab_type": "code",
        "colab": {}
      },
      "source": [
        "y_pred2=clfr2.predict(x_test)\n",
        "y_pred2\n",
        "frame1=pd.DataFrame(y_test,y_pred2)\n",
        "frame1"
      ],
      "execution_count": 0,
      "outputs": []
    },
    {
      "cell_type": "code",
      "metadata": {
        "id": "J5xj80K61CRO",
        "colab_type": "code",
        "colab": {}
      },
      "source": [
        "print('Accuracy:',metrics.accuracy_score(y_test,y_pred2))"
      ],
      "execution_count": 0,
      "outputs": []
    },
    {
      "cell_type": "code",
      "metadata": {
        "id": "ZGYufHfV1fyJ",
        "colab_type": "code",
        "colab": {}
      },
      "source": [
        "clfr3=AdaBoostClassifier()\n",
        "clfr3.fit(x_test,y_test)"
      ],
      "execution_count": 0,
      "outputs": []
    },
    {
      "cell_type": "code",
      "metadata": {
        "id": "gHYx-OEt2Zqa",
        "colab_type": "code",
        "colab": {}
      },
      "source": [
        "y_pred3=clfr3.predict(x_test)\n",
        "y_pred3\n",
        "frame2=pd.DataFrame(y_test,y_pred3)\n",
        "frame2"
      ],
      "execution_count": 0,
      "outputs": []
    },
    {
      "cell_type": "code",
      "metadata": {
        "id": "65xla1Pq5IXJ",
        "colab_type": "code",
        "colab": {}
      },
      "source": [
        "print('Accuracy:',metrics.accuracy_score(y_test,y_pred3))"
      ],
      "execution_count": 0,
      "outputs": []
    },
    {
      "cell_type": "code",
      "metadata": {
        "id": "ewgJiTmu5IcZ",
        "colab_type": "code",
        "colab": {}
      },
      "source": [
        ""
      ],
      "execution_count": 0,
      "outputs": []
    }
  ]
}